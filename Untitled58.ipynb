{
  "nbformat": 4,
  "nbformat_minor": 0,
  "metadata": {
    "colab": {
      "name": "Untitled58.ipynb",
      "provenance": [],
      "collapsed_sections": []
    },
    "kernelspec": {
      "name": "python3",
      "display_name": "Python 3"
    }
  },
  "cells": [
    {
      "cell_type": "code",
      "metadata": {
        "id": "6Rw7gdRvwRJR"
      },
      "source": [
        "import tensorflow as tf\n",
        "import numpy as np\n",
        "import matplotlib.pyplot as plt "
      ],
      "execution_count": null,
      "outputs": []
    },
    {
      "cell_type": "code",
      "metadata": {
        "id": "c9Rtplh-w0-t"
      },
      "source": [
        "def plot_series(time,series,format='-',start =0,end=None):\n",
        "  plt.plot(time[start:end],series[start:end],format)\n",
        "  plt.xlabel('Time')\n",
        "  plt.ylabel('Values')\n",
        "  plt.grid(True)"
      ],
      "execution_count": null,
      "outputs": []
    },
    {
      "cell_type": "code",
      "metadata": {
        "id": "P4Wic1SQxIpc"
      },
      "source": [
        "def trend(time,slope =0):\n",
        "  return time*slope"
      ],
      "execution_count": null,
      "outputs": []
    },
    {
      "cell_type": "code",
      "metadata": {
        "id": "6IMAWjfFxNmY"
      },
      "source": [
        "def seasonal_pattern(season_time):\n",
        "  return np.where(season_time<0.4,\n",
        "                  np.cos(2*np.pi*season_time),\n",
        "                  1/np.exp(3*season_time))"
      ],
      "execution_count": null,
      "outputs": []
    },
    {
      "cell_type": "code",
      "metadata": {
        "id": "Ll__vBBtxgnQ"
      },
      "source": [
        "def seasonality(time,period,amplitude=1,phase=0):\n",
        "  season_time = (((time+phase)%period)/period)\n",
        "  return amplitude*seasonal_pattern(season_time)"
      ],
      "execution_count": null,
      "outputs": []
    },
    {
      "cell_type": "code",
      "metadata": {
        "id": "Q7Cb1uT6x3a_"
      },
      "source": [
        "def noise(time,noise_level=1,seed=None):\n",
        "  rnd = np.random.RandomState(seed)\n",
        "  return noise_level*rnd.randn(len(time))"
      ],
      "execution_count": null,
      "outputs": []
    },
    {
      "cell_type": "code",
      "metadata": {
        "id": "r06MGkv7yHHo"
      },
      "source": [
        "baseline =10\n",
        "time= np.arange(4*365+1,dtype='float32')\n",
        "series = trend(time,0.1)\n",
        "baseline = 10\n",
        "slope = 0.05\n",
        "amplitude =40\n",
        "noise_level = 5\n",
        "series = baseline +trend(time,slope)+seasonality(time,period =365,amplitude=amplitude)\n",
        "series += noise(time,noise_level=noise_level,seed=42)\n",
        "window_size= 20\n",
        "batch_size =32\n",
        "shuffle_buffer_size= 1000"
      ],
      "execution_count": null,
      "outputs": []
    },
    {
      "cell_type": "code",
      "metadata": {
        "id": "Y7WpAXXayy-e"
      },
      "source": [
        "def windowed_dataset(series,window_size,batch_size,shuffle_buffer):\n",
        "  dataset = tf.data.Dataset.from_tensor_slices(seed)\n",
        "  dataset = dataset.window(window_size+1,shift=1,drop_remainder=True)\n",
        "  dataset = dataset.flat_map(lambda window:window.batch(window_size+1))\n",
        "  dataset = dataset.shuffle(shuffle_buffer).map(lambda window: (window[:-1],window[-1]))\n",
        "  dataset = dataset.batch(batch_size).prefetch(1)\n",
        "  return dataset "
      ],
      "execution_count": null,
      "outputs": []
    },
    {
      "cell_type": "code",
      "metadata": {
        "id": "bbJnK0tuzpWm"
      },
      "source": [
        "split_time =1000\n",
        "time_train = time[:split_time]\n",
        "time_valid = time[split_time:]\n",
        "x_train = series[:split_time]\n",
        "x_valid = series[split_time:]\n"
      ],
      "execution_count": null,
      "outputs": []
    },
    {
      "cell_type": "code",
      "metadata": {
        "id": "2lXh_bU61MiT"
      },
      "source": [
        "model = tf.keras.models.Sequential([\n",
        "                                    tf.keras.layers.Lambda(lambda x: tf.expand_dims(x,axis=-1),input_shape=[None]),\n",
        "                                    tf.keras.layers.Bidirectional(tf.keras.layers.LSTM(32,return_sequences=True)),\n",
        "                                    tf.keras.layers.Bidirectional(tf.keras.layers.LSTM(32)),\n",
        "                                    tf.keras.layers.Dense(1),\n",
        "                                    tf.keras.layers.Lambda(lambda x:x*100.0)\n",
        "])"
      ],
      "execution_count": null,
      "outputs": []
    },
    {
      "cell_type": "code",
      "metadata": {
        "id": "hV3Hz5Gw12Gr"
      },
      "source": [
        "model.compile(loss= tf.keras.losses.Huber(),optimizer= tf.keras.optimizers.SGD(lr =1e-8,momentum =0.9),metrics = ['mae'])\n",
        "lr_scheduler = tf.keras.callbacks.LearningRateScheduler(lambda epochs : 1e-8*10**(epochs/20))"
      ],
      "execution_count": null,
      "outputs": []
    },
    {
      "cell_type": "code",
      "metadata": {
        "id": "BM23S16W2VQ2",
        "outputId": "14ae8014-e9c8-4eb9-a093-6844ba834f04",
        "colab": {
          "base_uri": "https://localhost:8080/"
        }
      },
      "source": [
        "history = model.fit(dataset,epochs =100,verbose =2,callbacks=[lr_scheduler])"
      ],
      "execution_count": null,
      "outputs": [
        {
          "output_type": "stream",
          "text": [
            "Epoch 1/100\n",
            "31/31 - 1s - loss: 13.6062 - mae: 14.0987\n",
            "Epoch 2/100\n",
            "31/31 - 1s - loss: 13.5646 - mae: 14.0567\n",
            "Epoch 3/100\n",
            "31/31 - 1s - loss: 13.5358 - mae: 14.0281\n",
            "Epoch 4/100\n",
            "31/31 - 1s - loss: 13.5056 - mae: 13.9989\n",
            "Epoch 5/100\n",
            "31/31 - 1s - loss: 13.4725 - mae: 13.9662\n",
            "Epoch 6/100\n",
            "31/31 - 1s - loss: 13.4358 - mae: 13.9301\n",
            "Epoch 7/100\n",
            "31/31 - 1s - loss: 13.3955 - mae: 13.8903\n",
            "Epoch 8/100\n",
            "31/31 - 1s - loss: 13.3518 - mae: 13.8470\n",
            "Epoch 9/100\n",
            "31/31 - 1s - loss: 13.3054 - mae: 13.8005\n",
            "Epoch 10/100\n",
            "31/31 - 1s - loss: 13.2512 - mae: 13.7461\n",
            "Epoch 11/100\n",
            "31/31 - 1s - loss: 13.1930 - mae: 13.6877\n",
            "Epoch 12/100\n",
            "31/31 - 1s - loss: 13.1290 - mae: 13.6228\n",
            "Epoch 13/100\n",
            "31/31 - 1s - loss: 13.0587 - mae: 13.5517\n",
            "Epoch 14/100\n",
            "31/31 - 1s - loss: 12.9817 - mae: 13.4736\n",
            "Epoch 15/100\n",
            "31/31 - 1s - loss: 12.8964 - mae: 13.3877\n",
            "Epoch 16/100\n",
            "31/31 - 1s - loss: 12.8024 - mae: 13.2935\n",
            "Epoch 17/100\n",
            "31/31 - 1s - loss: 12.6998 - mae: 13.1896\n",
            "Epoch 18/100\n",
            "31/31 - 1s - loss: 12.5852 - mae: 13.0755\n",
            "Epoch 19/100\n",
            "31/31 - 1s - loss: 12.4594 - mae: 12.9502\n",
            "Epoch 20/100\n",
            "31/31 - 1s - loss: 12.3188 - mae: 12.8085\n",
            "Epoch 21/100\n",
            "31/31 - 1s - loss: 12.1745 - mae: 12.6640\n",
            "Epoch 22/100\n",
            "31/31 - 1s - loss: 12.0046 - mae: 12.4940\n",
            "Epoch 23/100\n",
            "31/31 - 1s - loss: 11.8316 - mae: 12.3209\n",
            "Epoch 24/100\n",
            "31/31 - 1s - loss: 11.6445 - mae: 12.1339\n",
            "Epoch 25/100\n",
            "31/31 - 1s - loss: 11.4463 - mae: 11.9351\n",
            "Epoch 26/100\n",
            "31/31 - 1s - loss: 11.2351 - mae: 11.7251\n",
            "Epoch 27/100\n",
            "31/31 - 1s - loss: 10.9967 - mae: 11.4853\n",
            "Epoch 28/100\n",
            "31/31 - 1s - loss: 10.7461 - mae: 11.2362\n",
            "Epoch 29/100\n",
            "31/31 - 1s - loss: 10.4746 - mae: 10.9634\n",
            "Epoch 30/100\n",
            "31/31 - 1s - loss: 10.1935 - mae: 10.6819\n",
            "Epoch 31/100\n",
            "31/31 - 1s - loss: 9.9007 - mae: 10.3846\n",
            "Epoch 32/100\n",
            "31/31 - 1s - loss: 9.5780 - mae: 10.0655\n",
            "Epoch 33/100\n",
            "31/31 - 1s - loss: 9.2581 - mae: 9.7458\n",
            "Epoch 34/100\n",
            "31/31 - 1s - loss: 8.9750 - mae: 9.4597\n",
            "Epoch 35/100\n",
            "31/31 - 1s - loss: 8.6379 - mae: 9.1233\n",
            "Epoch 36/100\n",
            "31/31 - 1s - loss: 8.2837 - mae: 8.7687\n",
            "Epoch 37/100\n",
            "31/31 - 1s - loss: 7.9856 - mae: 8.4659\n",
            "Epoch 38/100\n",
            "31/31 - 1s - loss: 7.7222 - mae: 8.2034\n",
            "Epoch 39/100\n",
            "31/31 - 1s - loss: 7.4517 - mae: 7.9353\n",
            "Epoch 40/100\n",
            "31/31 - 1s - loss: 7.2576 - mae: 7.7371\n",
            "Epoch 41/100\n",
            "31/31 - 1s - loss: 7.2900 - mae: 7.7774\n",
            "Epoch 42/100\n",
            "31/31 - 1s - loss: 6.9351 - mae: 7.4156\n",
            "Epoch 43/100\n",
            "31/31 - 1s - loss: 6.7439 - mae: 7.2241\n",
            "Epoch 44/100\n",
            "31/31 - 1s - loss: 6.6099 - mae: 7.0859\n",
            "Epoch 45/100\n",
            "31/31 - 1s - loss: 6.5676 - mae: 7.0482\n",
            "Epoch 46/100\n",
            "31/31 - 1s - loss: 6.3760 - mae: 6.8597\n",
            "Epoch 47/100\n",
            "31/31 - 1s - loss: 6.2129 - mae: 6.6910\n",
            "Epoch 48/100\n",
            "31/31 - 1s - loss: 6.1718 - mae: 6.6515\n",
            "Epoch 49/100\n",
            "31/31 - 1s - loss: 6.0353 - mae: 6.5168\n",
            "Epoch 50/100\n",
            "31/31 - 1s - loss: 5.9362 - mae: 6.4181\n",
            "Epoch 51/100\n",
            "31/31 - 1s - loss: 6.0062 - mae: 6.4919\n",
            "Epoch 52/100\n",
            "31/31 - 1s - loss: 5.9865 - mae: 6.4693\n",
            "Epoch 53/100\n",
            "31/31 - 1s - loss: 5.5722 - mae: 6.0556\n",
            "Epoch 54/100\n",
            "31/31 - 1s - loss: 5.7192 - mae: 6.2020\n",
            "Epoch 55/100\n",
            "31/31 - 1s - loss: 5.3484 - mae: 5.8281\n",
            "Epoch 56/100\n",
            "31/31 - 1s - loss: 5.3904 - mae: 5.8710\n",
            "Epoch 57/100\n",
            "31/31 - 1s - loss: 5.3142 - mae: 5.7891\n",
            "Epoch 58/100\n",
            "31/31 - 1s - loss: 5.2375 - mae: 5.7198\n",
            "Epoch 59/100\n",
            "31/31 - 1s - loss: 5.0008 - mae: 5.4790\n",
            "Epoch 60/100\n",
            "31/31 - 1s - loss: 5.2689 - mae: 5.7437\n",
            "Epoch 61/100\n",
            "31/31 - 1s - loss: 5.4584 - mae: 5.9377\n",
            "Epoch 62/100\n",
            "31/31 - 1s - loss: 4.9873 - mae: 5.4688\n",
            "Epoch 63/100\n",
            "31/31 - 1s - loss: 5.5330 - mae: 6.0198\n",
            "Epoch 64/100\n",
            "31/31 - 1s - loss: 6.0379 - mae: 6.5194\n",
            "Epoch 65/100\n",
            "31/31 - 1s - loss: 4.8422 - mae: 5.3173\n",
            "Epoch 66/100\n",
            "31/31 - 1s - loss: 4.8593 - mae: 5.3355\n",
            "Epoch 67/100\n",
            "31/31 - 1s - loss: 5.5216 - mae: 6.0053\n",
            "Epoch 68/100\n",
            "31/31 - 1s - loss: 5.2615 - mae: 5.7420\n",
            "Epoch 69/100\n",
            "31/31 - 1s - loss: 5.5765 - mae: 6.0555\n",
            "Epoch 70/100\n",
            "31/31 - 1s - loss: 5.4360 - mae: 5.9196\n",
            "Epoch 71/100\n",
            "31/31 - 1s - loss: 7.0358 - mae: 7.5201\n",
            "Epoch 72/100\n",
            "31/31 - 1s - loss: 7.3634 - mae: 7.8516\n",
            "Epoch 73/100\n",
            "31/31 - 1s - loss: 5.3921 - mae: 5.8688\n",
            "Epoch 74/100\n",
            "31/31 - 1s - loss: 5.0264 - mae: 5.5020\n",
            "Epoch 75/100\n",
            "31/31 - 1s - loss: 6.4174 - mae: 6.9026\n",
            "Epoch 76/100\n",
            "31/31 - 1s - loss: 5.4895 - mae: 5.9720\n",
            "Epoch 77/100\n",
            "31/31 - 1s - loss: 6.2636 - mae: 6.7499\n",
            "Epoch 78/100\n",
            "31/31 - 1s - loss: 6.1116 - mae: 6.5947\n",
            "Epoch 79/100\n",
            "31/31 - 1s - loss: 7.0023 - mae: 7.4878\n",
            "Epoch 80/100\n",
            "31/31 - 1s - loss: 10.0100 - mae: 10.5007\n",
            "Epoch 81/100\n",
            "31/31 - 1s - loss: 7.0125 - mae: 7.4988\n",
            "Epoch 82/100\n",
            "31/31 - 1s - loss: 5.2249 - mae: 5.7018\n",
            "Epoch 83/100\n",
            "31/31 - 1s - loss: 7.1335 - mae: 7.6202\n",
            "Epoch 84/100\n",
            "31/31 - 1s - loss: 7.0725 - mae: 7.5587\n",
            "Epoch 85/100\n",
            "31/31 - 1s - loss: 9.4903 - mae: 9.9821\n",
            "Epoch 86/100\n",
            "31/31 - 1s - loss: 7.7557 - mae: 8.2413\n",
            "Epoch 87/100\n",
            "31/31 - 1s - loss: 6.4375 - mae: 6.9235\n",
            "Epoch 88/100\n",
            "31/31 - 1s - loss: 9.0518 - mae: 9.5439\n",
            "Epoch 89/100\n",
            "31/31 - 1s - loss: 9.9543 - mae: 10.4469\n",
            "Epoch 90/100\n",
            "31/31 - 1s - loss: 5.7207 - mae: 6.2041\n",
            "Epoch 91/100\n",
            "31/31 - 1s - loss: 7.3244 - mae: 7.8122\n",
            "Epoch 92/100\n",
            "31/31 - 1s - loss: 7.4549 - mae: 7.9414\n",
            "Epoch 93/100\n",
            "31/31 - 1s - loss: 11.0216 - mae: 11.5147\n",
            "Epoch 94/100\n",
            "31/31 - 1s - loss: 10.9500 - mae: 11.4418\n",
            "Epoch 95/100\n",
            "31/31 - 1s - loss: 10.6237 - mae: 11.1142\n",
            "Epoch 96/100\n",
            "31/31 - 1s - loss: 9.0320 - mae: 9.5176\n",
            "Epoch 97/100\n",
            "31/31 - 1s - loss: 9.9669 - mae: 10.4569\n",
            "Epoch 98/100\n",
            "31/31 - 1s - loss: 12.5562 - mae: 13.0471\n",
            "Epoch 99/100\n",
            "31/31 - 1s - loss: 13.8082 - mae: 14.2983\n",
            "Epoch 100/100\n",
            "31/31 - 1s - loss: 11.0060 - mae: 11.4956\n"
          ],
          "name": "stdout"
        }
      ]
    },
    {
      "cell_type": "code",
      "metadata": {
        "id": "Jlr0UqHS2iqj",
        "outputId": "eb666a25-85e7-48ed-8bc5-a4bb1f8c8353",
        "colab": {
          "base_uri": "https://localhost:8080/",
          "height": 290
        }
      },
      "source": [
        "plt.semilogx(history.history['lr'],history.history['loss'])\n",
        "plt.axis([1e-8, 1e-4, 0, 30])"
      ],
      "execution_count": null,
      "outputs": [
        {
          "output_type": "execute_result",
          "data": {
            "text/plain": [
              "(1e-08, 0.0001, 0.0, 30.0)"
            ]
          },
          "metadata": {
            "tags": []
          },
          "execution_count": 143
        },
        {
          "output_type": "display_data",
          "data": {
            "image/png": "[encoded data removed]",
            "text/plain": [
              "<Figure size 432x288 with 1 Axes>"
            ]
          },
          "metadata": {
            "tags": [],
            "needs_background": "light"
          }
        }
      ]
    },
    {
      "cell_type": "code",
      "metadata": {
        "id": "ZmwrZZrm2woj"
      },
      "source": [
        "tf.keras.backend.clear_session()\n",
        "tf"
      ],
      "execution_count": null,
      "outputs": []
    }
  ]
}